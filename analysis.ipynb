{
 "cells": [
  {
   "cell_type": "markdown",
   "id": "d9afede1-334b-4c63-834d-e79d37af2f67",
   "metadata": {},
   "source": [
    "# Belegungsquote der Frauenhäuser in Deutschland"
   ]
  },
  {
   "cell_type": "markdown",
   "id": "57907518-a3c6-4e15-b561-b9b1931a8aab",
   "metadata": {},
   "source": [
    "## Cleaning up original data"
   ]
  },
  {
   "cell_type": "code",
   "execution_count": null,
   "id": "66c00e3d-3c4c-4c57-bddc-2d42b2bbd990",
   "metadata": {},
   "outputs": [],
   "source": [
    "import pandas as pd\n",
    "import numpy as np"
   ]
  },
  {
   "cell_type": "code",
   "execution_count": null,
   "id": "466f3dac-ec79-4e00-bdfc-744d385e5f6c",
   "metadata": {},
   "outputs": [],
   "source": [
    "fpath = \"data/scraped/230103_datenstand.json\""
   ]
  },
  {
   "cell_type": "code",
   "execution_count": null,
   "id": "148b8572-f8a0-4213-92ca-9ca39a3262d2",
   "metadata": {},
   "outputs": [],
   "source": [
    "# load data\n",
    "raw = pd.read_json(fpath, orient=\"index\")\n",
    "raw[\"shelter_id\"] = raw.index\n",
    "raw = raw.reset_index(drop=True)\n",
    "\n",
    "# clean up geometry columns\n",
    "raw.loc[raw.geography.notnull(), \"geometry\"] = raw.loc[raw.geography.notnull(), \"geography\"]"
   ]
  },
  {
   "cell_type": "code",
   "execution_count": null,
   "id": "10e0e9d7-1ceb-4f74-abbe-ce752e609dc7",
   "metadata": {},
   "outputs": [],
   "source": [
    "# get keys\n",
    "keys = pd.read_csv(\"data/helpers/free_places_key.csv\")"
   ]
  },
  {
   "cell_type": "code",
   "execution_count": null,
   "id": "23ed5bb1-a8ea-4fac-9b56-b6ee4d81b16d",
   "metadata": {},
   "outputs": [],
   "source": [
    "# get all timeseries data\n",
    "df = pd.DataFrame()\n",
    "\n",
    "for i, row in raw.iterrows():\n",
    "    \n",
    "    temp = pd.DataFrame(row[\"data\"])\n",
    "    temp[\"shelter_id\"] = row[\"shelter_id\"]\n",
    "    temp[\"shelter_name\"] = row[\"title\"]\n",
    "    temp[\"latitude\"] = row[\"geometry\"][\"coordinates\"][1]\n",
    "    temp[\"longitude\"] = row[\"geometry\"][\"coordinates\"][0]\n",
    "    df = pd.concat([df, temp])"
   ]
  },
  {
   "cell_type": "code",
   "execution_count": null,
   "id": "41cf0b88-5e17-4e9d-a23e-bbde40c32b4b",
   "metadata": {},
   "outputs": [
    {
     "ename": "KeyboardInterrupt",
     "evalue": "",
     "output_type": "error",
     "traceback": [
      "\u001b[0;31m---------------------------------------------------------------------------\u001b[0m",
      "\u001b[0;31mKeyboardInterrupt\u001b[0m                         Traceback (most recent call last)",
      "Input \u001b[0;32mIn [6]\u001b[0m, in \u001b[0;36m<cell line: 2>\u001b[0;34m()\u001b[0m\n\u001b[1;32m      1\u001b[0m \u001b[38;5;66;03m# reformat timeseries\u001b[39;00m\n\u001b[0;32m----> 2\u001b[0m df\u001b[38;5;241m.\u001b[39mtimestamp \u001b[38;5;241m=\u001b[39m \u001b[43mpd\u001b[49m\u001b[38;5;241;43m.\u001b[39;49m\u001b[43mto_datetime\u001b[49m\u001b[43m(\u001b[49m\u001b[43mdf\u001b[49m\u001b[38;5;241;43m.\u001b[39;49m\u001b[43mtimestamp\u001b[49m\u001b[43m,\u001b[49m\u001b[43m \u001b[49m\u001b[43mdayfirst\u001b[49m\u001b[38;5;241;43m=\u001b[39;49m\u001b[38;5;28;43;01mTrue\u001b[39;49;00m\u001b[43m)\u001b[49m\n\u001b[1;32m      3\u001b[0m df[\u001b[38;5;124m\"\u001b[39m\u001b[38;5;124mdate\u001b[39m\u001b[38;5;124m\"\u001b[39m] \u001b[38;5;241m=\u001b[39m df\u001b[38;5;241m.\u001b[39mtimestamp\u001b[38;5;241m.\u001b[39mdt\u001b[38;5;241m.\u001b[39mdate\n",
      "File \u001b[0;32m~/.pyenv/versions/3.9.1/lib/python3.9/site-packages/pandas/core/tools/datetimes.py:1051\u001b[0m, in \u001b[0;36mto_datetime\u001b[0;34m(arg, errors, dayfirst, yearfirst, utc, format, exact, unit, infer_datetime_format, origin, cache)\u001b[0m\n\u001b[1;32m   1049\u001b[0m         result \u001b[38;5;241m=\u001b[39m arg\u001b[38;5;241m.\u001b[39mmap(cache_array)\n\u001b[1;32m   1050\u001b[0m     \u001b[38;5;28;01melse\u001b[39;00m:\n\u001b[0;32m-> 1051\u001b[0m         values \u001b[38;5;241m=\u001b[39m \u001b[43mconvert_listlike\u001b[49m\u001b[43m(\u001b[49m\u001b[43marg\u001b[49m\u001b[38;5;241;43m.\u001b[39;49m\u001b[43m_values\u001b[49m\u001b[43m,\u001b[49m\u001b[43m \u001b[49m\u001b[38;5;28;43mformat\u001b[39;49m\u001b[43m)\u001b[49m\n\u001b[1;32m   1052\u001b[0m         result \u001b[38;5;241m=\u001b[39m arg\u001b[38;5;241m.\u001b[39m_constructor(values, index\u001b[38;5;241m=\u001b[39marg\u001b[38;5;241m.\u001b[39mindex, name\u001b[38;5;241m=\u001b[39marg\u001b[38;5;241m.\u001b[39mname)\n\u001b[1;32m   1053\u001b[0m \u001b[38;5;28;01melif\u001b[39;00m \u001b[38;5;28misinstance\u001b[39m(arg, (ABCDataFrame, abc\u001b[38;5;241m.\u001b[39mMutableMapping)):\n",
      "File \u001b[0;32m~/.pyenv/versions/3.9.1/lib/python3.9/site-packages/pandas/core/tools/datetimes.py:402\u001b[0m, in \u001b[0;36m_convert_listlike_datetimes\u001b[0;34m(arg, format, name, tz, unit, errors, infer_datetime_format, dayfirst, yearfirst, exact)\u001b[0m\n\u001b[1;32m    400\u001b[0m \u001b[38;5;28;01massert\u001b[39;00m \u001b[38;5;28mformat\u001b[39m \u001b[38;5;129;01mis\u001b[39;00m \u001b[38;5;28;01mNone\u001b[39;00m \u001b[38;5;129;01mor\u001b[39;00m infer_datetime_format\n\u001b[1;32m    401\u001b[0m utc \u001b[38;5;241m=\u001b[39m tz \u001b[38;5;241m==\u001b[39m \u001b[38;5;124m\"\u001b[39m\u001b[38;5;124mutc\u001b[39m\u001b[38;5;124m\"\u001b[39m\n\u001b[0;32m--> 402\u001b[0m result, tz_parsed \u001b[38;5;241m=\u001b[39m \u001b[43mobjects_to_datetime64ns\u001b[49m\u001b[43m(\u001b[49m\n\u001b[1;32m    403\u001b[0m \u001b[43m    \u001b[49m\u001b[43marg\u001b[49m\u001b[43m,\u001b[49m\n\u001b[1;32m    404\u001b[0m \u001b[43m    \u001b[49m\u001b[43mdayfirst\u001b[49m\u001b[38;5;241;43m=\u001b[39;49m\u001b[43mdayfirst\u001b[49m\u001b[43m,\u001b[49m\n\u001b[1;32m    405\u001b[0m \u001b[43m    \u001b[49m\u001b[43myearfirst\u001b[49m\u001b[38;5;241;43m=\u001b[39;49m\u001b[43myearfirst\u001b[49m\u001b[43m,\u001b[49m\n\u001b[1;32m    406\u001b[0m \u001b[43m    \u001b[49m\u001b[43mutc\u001b[49m\u001b[38;5;241;43m=\u001b[39;49m\u001b[43mutc\u001b[49m\u001b[43m,\u001b[49m\n\u001b[1;32m    407\u001b[0m \u001b[43m    \u001b[49m\u001b[43merrors\u001b[49m\u001b[38;5;241;43m=\u001b[39;49m\u001b[43merrors\u001b[49m\u001b[43m,\u001b[49m\n\u001b[1;32m    408\u001b[0m \u001b[43m    \u001b[49m\u001b[43mrequire_iso8601\u001b[49m\u001b[38;5;241;43m=\u001b[39;49m\u001b[43mrequire_iso8601\u001b[49m\u001b[43m,\u001b[49m\n\u001b[1;32m    409\u001b[0m \u001b[43m    \u001b[49m\u001b[43mallow_object\u001b[49m\u001b[38;5;241;43m=\u001b[39;49m\u001b[38;5;28;43;01mTrue\u001b[39;49;00m\u001b[43m,\u001b[49m\n\u001b[1;32m    410\u001b[0m \u001b[43m\u001b[49m\u001b[43m)\u001b[49m\n\u001b[1;32m    412\u001b[0m \u001b[38;5;28;01mif\u001b[39;00m tz_parsed \u001b[38;5;129;01mis\u001b[39;00m \u001b[38;5;129;01mnot\u001b[39;00m \u001b[38;5;28;01mNone\u001b[39;00m:\n\u001b[1;32m    413\u001b[0m     \u001b[38;5;66;03m# We can take a shortcut since the datetime64 numpy array\u001b[39;00m\n\u001b[1;32m    414\u001b[0m     \u001b[38;5;66;03m# is in UTC\u001b[39;00m\n\u001b[1;32m    415\u001b[0m     dta \u001b[38;5;241m=\u001b[39m DatetimeArray(result, dtype\u001b[38;5;241m=\u001b[39mtz_to_dtype(tz_parsed))\n",
      "File \u001b[0;32m~/.pyenv/versions/3.9.1/lib/python3.9/site-packages/pandas/core/arrays/datetimes.py:2224\u001b[0m, in \u001b[0;36mobjects_to_datetime64ns\u001b[0;34m(data, dayfirst, yearfirst, utc, errors, require_iso8601, allow_object, allow_mixed)\u001b[0m\n\u001b[1;32m   2222\u001b[0m order: Literal[\u001b[38;5;124m\"\u001b[39m\u001b[38;5;124mF\u001b[39m\u001b[38;5;124m\"\u001b[39m, \u001b[38;5;124m\"\u001b[39m\u001b[38;5;124mC\u001b[39m\u001b[38;5;124m\"\u001b[39m] \u001b[38;5;241m=\u001b[39m \u001b[38;5;124m\"\u001b[39m\u001b[38;5;124mF\u001b[39m\u001b[38;5;124m\"\u001b[39m \u001b[38;5;28;01mif\u001b[39;00m flags\u001b[38;5;241m.\u001b[39mf_contiguous \u001b[38;5;28;01melse\u001b[39;00m \u001b[38;5;124m\"\u001b[39m\u001b[38;5;124mC\u001b[39m\u001b[38;5;124m\"\u001b[39m\n\u001b[1;32m   2223\u001b[0m \u001b[38;5;28;01mtry\u001b[39;00m:\n\u001b[0;32m-> 2224\u001b[0m     result, tz_parsed \u001b[38;5;241m=\u001b[39m \u001b[43mtslib\u001b[49m\u001b[38;5;241;43m.\u001b[39;49m\u001b[43marray_to_datetime\u001b[49m\u001b[43m(\u001b[49m\n\u001b[1;32m   2225\u001b[0m \u001b[43m        \u001b[49m\u001b[43mdata\u001b[49m\u001b[38;5;241;43m.\u001b[39;49m\u001b[43mravel\u001b[49m\u001b[43m(\u001b[49m\u001b[38;5;124;43m\"\u001b[39;49m\u001b[38;5;124;43mK\u001b[39;49m\u001b[38;5;124;43m\"\u001b[39;49m\u001b[43m)\u001b[49m\u001b[43m,\u001b[49m\n\u001b[1;32m   2226\u001b[0m \u001b[43m        \u001b[49m\u001b[43merrors\u001b[49m\u001b[38;5;241;43m=\u001b[39;49m\u001b[43merrors\u001b[49m\u001b[43m,\u001b[49m\n\u001b[1;32m   2227\u001b[0m \u001b[43m        \u001b[49m\u001b[43mutc\u001b[49m\u001b[38;5;241;43m=\u001b[39;49m\u001b[43mutc\u001b[49m\u001b[43m,\u001b[49m\n\u001b[1;32m   2228\u001b[0m \u001b[43m        \u001b[49m\u001b[43mdayfirst\u001b[49m\u001b[38;5;241;43m=\u001b[39;49m\u001b[43mdayfirst\u001b[49m\u001b[43m,\u001b[49m\n\u001b[1;32m   2229\u001b[0m \u001b[43m        \u001b[49m\u001b[43myearfirst\u001b[49m\u001b[38;5;241;43m=\u001b[39;49m\u001b[43myearfirst\u001b[49m\u001b[43m,\u001b[49m\n\u001b[1;32m   2230\u001b[0m \u001b[43m        \u001b[49m\u001b[43mrequire_iso8601\u001b[49m\u001b[38;5;241;43m=\u001b[39;49m\u001b[43mrequire_iso8601\u001b[49m\u001b[43m,\u001b[49m\n\u001b[1;32m   2231\u001b[0m \u001b[43m        \u001b[49m\u001b[43mallow_mixed\u001b[49m\u001b[38;5;241;43m=\u001b[39;49m\u001b[43mallow_mixed\u001b[49m\u001b[43m,\u001b[49m\n\u001b[1;32m   2232\u001b[0m \u001b[43m    \u001b[49m\u001b[43m)\u001b[49m\n\u001b[1;32m   2233\u001b[0m     result \u001b[38;5;241m=\u001b[39m result\u001b[38;5;241m.\u001b[39mreshape(data\u001b[38;5;241m.\u001b[39mshape, order\u001b[38;5;241m=\u001b[39morder)\n\u001b[1;32m   2234\u001b[0m \u001b[38;5;28;01mexcept\u001b[39;00m \u001b[38;5;167;01mValueError\u001b[39;00m \u001b[38;5;28;01mas\u001b[39;00m err:\n",
      "File \u001b[0;32m~/.pyenv/versions/3.9.1/lib/python3.9/site-packages/pandas/_libs/tslib.pyx:381\u001b[0m, in \u001b[0;36mpandas._libs.tslib.array_to_datetime\u001b[0;34m()\u001b[0m\n",
      "File \u001b[0;32m~/.pyenv/versions/3.9.1/lib/python3.9/site-packages/pandas/_libs/tslib.pyx:536\u001b[0m, in \u001b[0;36mpandas._libs.tslib.array_to_datetime\u001b[0;34m()\u001b[0m\n",
      "File \u001b[0;32m~/.pyenv/versions/3.9.1/lib/python3.9/site-packages/pandas/_libs/tslibs/parsing.pyx:281\u001b[0m, in \u001b[0;36mpandas._libs.tslibs.parsing.parse_datetime_string\u001b[0;34m()\u001b[0m\n",
      "File \u001b[0;32m~/.pyenv/versions/3.9.1/lib/python3.9/site-packages/dateutil/parser/_parser.py:1368\u001b[0m, in \u001b[0;36mparse\u001b[0;34m(timestr, parserinfo, **kwargs)\u001b[0m\n\u001b[1;32m   1366\u001b[0m     \u001b[38;5;28;01mreturn\u001b[39;00m parser(parserinfo)\u001b[38;5;241m.\u001b[39mparse(timestr, \u001b[38;5;241m*\u001b[39m\u001b[38;5;241m*\u001b[39mkwargs)\n\u001b[1;32m   1367\u001b[0m \u001b[38;5;28;01melse\u001b[39;00m:\n\u001b[0;32m-> 1368\u001b[0m     \u001b[38;5;28;01mreturn\u001b[39;00m \u001b[43mDEFAULTPARSER\u001b[49m\u001b[38;5;241;43m.\u001b[39;49m\u001b[43mparse\u001b[49m\u001b[43m(\u001b[49m\u001b[43mtimestr\u001b[49m\u001b[43m,\u001b[49m\u001b[43m \u001b[49m\u001b[38;5;241;43m*\u001b[39;49m\u001b[38;5;241;43m*\u001b[39;49m\u001b[43mkwargs\u001b[49m\u001b[43m)\u001b[49m\n",
      "File \u001b[0;32m~/.pyenv/versions/3.9.1/lib/python3.9/site-packages/dateutil/parser/_parser.py:640\u001b[0m, in \u001b[0;36mparser.parse\u001b[0;34m(self, timestr, default, ignoretz, tzinfos, **kwargs)\u001b[0m\n\u001b[1;32m    636\u001b[0m \u001b[38;5;28;01mif\u001b[39;00m default \u001b[38;5;129;01mis\u001b[39;00m \u001b[38;5;28;01mNone\u001b[39;00m:\n\u001b[1;32m    637\u001b[0m     default \u001b[38;5;241m=\u001b[39m datetime\u001b[38;5;241m.\u001b[39mdatetime\u001b[38;5;241m.\u001b[39mnow()\u001b[38;5;241m.\u001b[39mreplace(hour\u001b[38;5;241m=\u001b[39m\u001b[38;5;241m0\u001b[39m, minute\u001b[38;5;241m=\u001b[39m\u001b[38;5;241m0\u001b[39m,\n\u001b[1;32m    638\u001b[0m                                               second\u001b[38;5;241m=\u001b[39m\u001b[38;5;241m0\u001b[39m, microsecond\u001b[38;5;241m=\u001b[39m\u001b[38;5;241m0\u001b[39m)\n\u001b[0;32m--> 640\u001b[0m res, skipped_tokens \u001b[38;5;241m=\u001b[39m \u001b[38;5;28;43mself\u001b[39;49m\u001b[38;5;241;43m.\u001b[39;49m\u001b[43m_parse\u001b[49m\u001b[43m(\u001b[49m\u001b[43mtimestr\u001b[49m\u001b[43m,\u001b[49m\u001b[43m \u001b[49m\u001b[38;5;241;43m*\u001b[39;49m\u001b[38;5;241;43m*\u001b[39;49m\u001b[43mkwargs\u001b[49m\u001b[43m)\u001b[49m\n\u001b[1;32m    642\u001b[0m \u001b[38;5;28;01mif\u001b[39;00m res \u001b[38;5;129;01mis\u001b[39;00m \u001b[38;5;28;01mNone\u001b[39;00m:\n\u001b[1;32m    643\u001b[0m     \u001b[38;5;28;01mraise\u001b[39;00m ParserError(\u001b[38;5;124m\"\u001b[39m\u001b[38;5;124mUnknown string format: \u001b[39m\u001b[38;5;132;01m%s\u001b[39;00m\u001b[38;5;124m\"\u001b[39m, timestr)\n",
      "File \u001b[0;32m~/.pyenv/versions/3.9.1/lib/python3.9/site-packages/dateutil/parser/_parser.py:719\u001b[0m, in \u001b[0;36mparser._parse\u001b[0;34m(self, timestr, dayfirst, yearfirst, fuzzy, fuzzy_with_tokens)\u001b[0m\n\u001b[1;32m    716\u001b[0m     yearfirst \u001b[38;5;241m=\u001b[39m info\u001b[38;5;241m.\u001b[39myearfirst\n\u001b[1;32m    718\u001b[0m res \u001b[38;5;241m=\u001b[39m \u001b[38;5;28mself\u001b[39m\u001b[38;5;241m.\u001b[39m_result()\n\u001b[0;32m--> 719\u001b[0m l \u001b[38;5;241m=\u001b[39m \u001b[43m_timelex\u001b[49m\u001b[38;5;241;43m.\u001b[39;49m\u001b[43msplit\u001b[49m\u001b[43m(\u001b[49m\u001b[43mtimestr\u001b[49m\u001b[43m)\u001b[49m         \u001b[38;5;66;03m# Splits the timestr into tokens\u001b[39;00m\n\u001b[1;32m    721\u001b[0m skipped_idxs \u001b[38;5;241m=\u001b[39m []\n\u001b[1;32m    723\u001b[0m \u001b[38;5;66;03m# year/month/day list\u001b[39;00m\n",
      "File \u001b[0;32m~/.pyenv/versions/3.9.1/lib/python3.9/site-packages/dateutil/parser/_parser.py:201\u001b[0m, in \u001b[0;36m_timelex.split\u001b[0;34m(cls, s)\u001b[0m\n\u001b[1;32m    199\u001b[0m \u001b[38;5;129m@classmethod\u001b[39m\n\u001b[1;32m    200\u001b[0m \u001b[38;5;28;01mdef\u001b[39;00m \u001b[38;5;21msplit\u001b[39m(\u001b[38;5;28mcls\u001b[39m, s):\n\u001b[0;32m--> 201\u001b[0m     \u001b[38;5;28;01mreturn\u001b[39;00m \u001b[38;5;28;43mlist\u001b[39;49m\u001b[43m(\u001b[49m\u001b[38;5;28;43mcls\u001b[39;49m\u001b[43m(\u001b[49m\u001b[43ms\u001b[49m\u001b[43m)\u001b[49m\u001b[43m)\u001b[49m\n",
      "File \u001b[0;32m~/.pyenv/versions/3.9.1/lib/python3.9/site-packages/dateutil/parser/_parser.py:190\u001b[0m, in \u001b[0;36m_timelex.__next__\u001b[0;34m(self)\u001b[0m\n\u001b[1;32m    189\u001b[0m \u001b[38;5;28;01mdef\u001b[39;00m \u001b[38;5;21m__next__\u001b[39m(\u001b[38;5;28mself\u001b[39m):\n\u001b[0;32m--> 190\u001b[0m     token \u001b[38;5;241m=\u001b[39m \u001b[38;5;28;43mself\u001b[39;49m\u001b[38;5;241;43m.\u001b[39;49m\u001b[43mget_token\u001b[49m\u001b[43m(\u001b[49m\u001b[43m)\u001b[49m\n\u001b[1;32m    191\u001b[0m     \u001b[38;5;28;01mif\u001b[39;00m token \u001b[38;5;129;01mis\u001b[39;00m \u001b[38;5;28;01mNone\u001b[39;00m:\n\u001b[1;32m    192\u001b[0m         \u001b[38;5;28;01mraise\u001b[39;00m \u001b[38;5;167;01mStopIteration\u001b[39;00m\n",
      "File \u001b[0;32m~/.pyenv/versions/3.9.1/lib/python3.9/site-packages/dateutil/parser/_parser.py:175\u001b[0m, in \u001b[0;36m_timelex.get_token\u001b[0;34m(self)\u001b[0m\n\u001b[1;32m    171\u001b[0m             \u001b[38;5;28;01mbreak\u001b[39;00m  \u001b[38;5;66;03m# emit token\u001b[39;00m\n\u001b[1;32m    173\u001b[0m \u001b[38;5;28;01mif\u001b[39;00m (state \u001b[38;5;129;01min\u001b[39;00m (\u001b[38;5;124m'\u001b[39m\u001b[38;5;124ma.\u001b[39m\u001b[38;5;124m'\u001b[39m, \u001b[38;5;124m'\u001b[39m\u001b[38;5;124m0.\u001b[39m\u001b[38;5;124m'\u001b[39m) \u001b[38;5;129;01mand\u001b[39;00m (seenletters \u001b[38;5;129;01mor\u001b[39;00m token\u001b[38;5;241m.\u001b[39mcount(\u001b[38;5;124m'\u001b[39m\u001b[38;5;124m.\u001b[39m\u001b[38;5;124m'\u001b[39m) \u001b[38;5;241m>\u001b[39m \u001b[38;5;241m1\u001b[39m \u001b[38;5;129;01mor\u001b[39;00m\n\u001b[1;32m    174\u001b[0m                                token[\u001b[38;5;241m-\u001b[39m\u001b[38;5;241m1\u001b[39m] \u001b[38;5;129;01min\u001b[39;00m \u001b[38;5;124m'\u001b[39m\u001b[38;5;124m.,\u001b[39m\u001b[38;5;124m'\u001b[39m)):\n\u001b[0;32m--> 175\u001b[0m     l \u001b[38;5;241m=\u001b[39m \u001b[38;5;28;43mself\u001b[39;49m\u001b[38;5;241;43m.\u001b[39;49m\u001b[43m_split_decimal\u001b[49m\u001b[38;5;241;43m.\u001b[39;49m\u001b[43msplit\u001b[49m\u001b[43m(\u001b[49m\u001b[43mtoken\u001b[49m\u001b[43m)\u001b[49m\n\u001b[1;32m    176\u001b[0m     token \u001b[38;5;241m=\u001b[39m l[\u001b[38;5;241m0\u001b[39m]\n\u001b[1;32m    177\u001b[0m     \u001b[38;5;28;01mfor\u001b[39;00m tok \u001b[38;5;129;01min\u001b[39;00m l[\u001b[38;5;241m1\u001b[39m:]:\n",
      "\u001b[0;31mKeyboardInterrupt\u001b[0m: "
     ]
    }
   ],
   "source": [
    "# reformat timeseries\n",
    "df.timestamp = pd.to_datetime(df.timestamp, dayfirst=True)\n",
    "df[\"date\"] = df.timestamp.dt.date"
   ]
  },
  {
   "cell_type": "code",
   "execution_count": null,
   "id": "07d4fe56-5bb3-490e-8900-38b5d33efdd2",
   "metadata": {},
   "outputs": [],
   "source": [
    "# add text keys\n",
    "df.loc[df.freePlaces==\"\", \"freePlaces\"] = np.nan\n",
    "df.freePlaces = df.freePlaces.astype(float)\n",
    "df = pd.merge(df, keys, on=\"freePlaces\")\n",
    "\n",
    "# fill nas\n",
    "df.loc[df.description.isnull(), \"description\"] = \"k.A.\"\n",
    "\n",
    "# add simplified NAs\n",
    "desc_short = {\n",
    "    \"Aufnahme möglich für Frauen mit 4 oder mehr Kindern\":\"Aufnahme möglich für Frauen mit mehreren Kindern\",\n",
    "    \"Aufnahme möglich für Frauen mit 3 Kindern\":\"Aufnahme möglich für Frauen mit mehreren Kindern\",\n",
    "    \"Aufnahme möglich für Frauen mit 2 Kindern\":\"Aufnahme möglich für Frauen mit mehreren Kindern\",\n",
    "    \"Aufnahme möglich für Frauen ohne Kinder, Aufnahme möglich für Frauen mit 1 Kind\":\"Aufnahme möglich für Frauen mit bis zu einem Kind\",\n",
    "    \"Aufnahme möglich für Frauen ohne Kinder\":\"Platz für Frauen ohne Kinder\",\n",
    "    \"Keine Aufnahme möglich\":\"Keine Aufnahme möglich\",\n",
    "    \"Aufnahme möglich ohne detaillierte Angabe\":\"Aufnahme möglich ohne detaillierte Angabe\",\n",
    "    \"k.A.\":\"keine Angabe\"\n",
    "}\n",
    "\n",
    "df[\"desc_short\"] = df.description.map(desc_short)"
   ]
  },
  {
   "cell_type": "code",
   "execution_count": null,
   "id": "9a2e36d7-2125-435a-83fd-c893f208dd12",
   "metadata": {},
   "outputs": [],
   "source": [
    "# add bundesland\n",
    "geocoded = pd.read_csv(\"data/helpers/shelters_geocoded.csv\").drop([\"latitude\",\"longitude\"], axis=1)\n",
    "df = pd.merge(df, geocoded, on=[\"shelter_name\",\"shelter_id\"])"
   ]
  },
  {
   "cell_type": "code",
   "execution_count": null,
   "id": "bca3d5dd-a6ca-4dcd-bd08-7f36b377cf60",
   "metadata": {},
   "outputs": [],
   "source": [
    "df.head()"
   ]
  },
  {
   "cell_type": "markdown",
   "id": "87e9ceb4-5e61-4ea3-81a0-fc327a400a94",
   "metadata": {},
   "source": [
    "## Monthly shelter-level summary"
   ]
  },
  {
   "cell_type": "code",
   "execution_count": null,
   "id": "190d53e6-aabd-4557-b697-8f3762e3a623",
   "metadata": {},
   "outputs": [],
   "source": [
    "# first get one value per day based on most common\n",
    "df_shelter_date = df.groupby([\"shelter_name\",\"shelter_id\",\"bundesland\",\"bez\",\"gen\",\"date\",\"desc_short\",\"latitude\",\"longitude\"]).agg(\n",
    "    n = (\"desc_short\", \"count\")\n",
    ").reset_index().sort_values(by=[\"shelter_id\",\"date\"], ascending=False) \\\n",
    ".groupby([\"shelter_name\",\"shelter_id\",\"bundesland\",\"bez\",\"gen\",\"latitude\",\"longitude\",\"date\"]).agg(\n",
    "    status = (\"desc_short\", \"first\")\n",
    ").reset_index()"
   ]
  },
  {
   "cell_type": "code",
   "execution_count": null,
   "id": "5dfa6c7a-fcbd-49cd-b8ca-f4723bd324bc",
   "metadata": {},
   "outputs": [],
   "source": [
    "# get month-year\n",
    "df_shelter_date[\"date\"] = pd.to_datetime(df_shelter_date[\"date\"])\n",
    "df_shelter_date[\"monthyear\"] = df_shelter_date.date.dt.to_period(\"M\")\n",
    "df_shelter_date.head()"
   ]
  },
  {
   "cell_type": "code",
   "execution_count": null,
   "id": "0ed9e5a5-76e5-4ab8-9bd6-2d83e94eb6b2",
   "metadata": {},
   "outputs": [],
   "source": [
    "df_shelter_monthyear = df_shelter_date.groupby([\"shelter_name\",\"shelter_id\",\"bundesland\",\"bez\",\"gen\",\"monthyear\",\"status\"]).agg(\n",
    "    n = (\"status\", \"count\")\n",
    ").reset_index()\n",
    "df_shelter_monthyear.head()"
   ]
  },
  {
   "cell_type": "code",
   "execution_count": null,
   "id": "74868ba3-0aaa-4e17-b740-46190b7376f9",
   "metadata": {},
   "outputs": [],
   "source": [
    "# pivot to wide and fill values\n",
    "df_shelter_monthly = pd.pivot(\n",
    "    df_shelter_monthyear,\n",
    "    index=[\"shelter_name\",\"shelter_id\",\"bundesland\",\"bez\",\"gen\",\"monthyear\"],\n",
    "    columns=\"status\",\n",
    "    values=\"n\"\n",
    ").reset_index().replace(np.nan, 0)\n",
    "df_shelter_monthly.head()"
   ]
  },
  {
   "cell_type": "code",
   "execution_count": null,
   "id": "a60443cf-71e9-4e60-aa3b-f7c94263d2a3",
   "metadata": {},
   "outputs": [],
   "source": [
    "# calculate total\n",
    "df_shelter_monthly[\"n\"] = df_shelter_monthly.iloc[:,6:].sum(axis=1)"
   ]
  },
  {
   "cell_type": "code",
   "execution_count": null,
   "id": "1e5a05cc-c2e8-4f28-ae1a-11c5f4c7bad8",
   "metadata": {},
   "outputs": [],
   "source": [
    "# get columns as pct\n",
    "df_shelter_monthly.iloc[:,6:-1] = df_shelter_monthly.iloc[:,6:-1].apply(lambda x : x / df_shelter_monthly.n, axis=0)"
   ]
  },
  {
   "cell_type": "code",
   "execution_count": null,
   "id": "77ffc47a-4a1b-4d9e-8d84-6c5b0baf8015",
   "metadata": {},
   "outputs": [],
   "source": [
    "df_shelter_monthly = df_shelter_monthly.drop(\"n\", axis=1)\n",
    "df_shelter_monthly.to_csv(\"./data/cleaned/belegungsquote_nach_year_month_shelter.csv\", index=False)"
   ]
  },
  {
   "cell_type": "markdown",
   "id": "e23decd1-53b6-46e1-a3dd-0dd2bad4023f",
   "metadata": {},
   "source": [
    "## Overall shelter-level summary"
   ]
  },
  {
   "cell_type": "code",
   "execution_count": null,
   "id": "4f1e939b-f2ff-4470-a2bc-e0a4968895b5",
   "metadata": {},
   "outputs": [],
   "source": [
    "df_shelter = df_shelter_date.groupby([\"shelter_name\",\"shelter_id\",\"bundesland\",\"bez\",\"gen\",\"status\",\"latitude\",\"longitude\"]).agg(\n",
    "    n = (\"status\", \"count\")\n",
    ").reset_index()\n",
    "df_shelter.head()"
   ]
  },
  {
   "cell_type": "code",
   "execution_count": null,
   "id": "22cb0772-4b1d-400c-a853-b535dfb53338",
   "metadata": {},
   "outputs": [],
   "source": [
    "# pivot to wide and fill values\n",
    "df_shelter = pd.pivot(\n",
    "    df_shelter,\n",
    "    index=[\"shelter_name\",\"shelter_id\",\"bundesland\",\"bez\",\"gen\",\"latitude\",\"longitude\"],\n",
    "    columns=\"status\",\n",
    "    values=\"n\"\n",
    ").reset_index().replace(np.nan, 0)\n",
    "\n",
    "# calculate total\n",
    "df_shelter[\"n\"] = df_shelter.iloc[:,7:].sum(axis=1)\n",
    "\n",
    "# get columns as pct\n",
    "df_shelter.iloc[:,7:-1] = df_shelter.iloc[:,7:-1].apply(lambda x : x / df_shelter.n, axis=0)\n",
    "\n",
    "df_shelter = df_shelter.drop(\"n\", axis=1)\n",
    "df_shelter.to_csv(\"./data/cleaned/belegungsquote_nach_shelter.csv\", index=False)"
   ]
  },
  {
   "cell_type": "markdown",
   "id": "e8380e17-9beb-497e-be16-1962db2ecbd5",
   "metadata": {},
   "source": [
    "## Get all shelters with 50% or more keine Angabe"
   ]
  },
  {
   "cell_type": "code",
   "execution_count": null,
   "id": "1d05ee81-4a41-4871-84ba-b3f56ab15263",
   "metadata": {},
   "outputs": [],
   "source": [
    "no_data = df_shelter.loc[df_shelter[\"keine Angabe\"] >= 0.50, \"shelter_id\"].values"
   ]
  },
  {
   "cell_type": "markdown",
   "id": "12ee053f-c715-416f-bead-31839fd4a723",
   "metadata": {},
   "source": [
    "## Gesamtübersicht nach Monat"
   ]
  },
  {
   "cell_type": "code",
   "execution_count": null,
   "id": "d3a11726-654b-4c03-a539-58b363531d55",
   "metadata": {},
   "outputs": [],
   "source": [
    "monthly = df_shelter_date.loc[~df_shelter_date.shelter_id.isin(no_data),].groupby([\"monthyear\",\"status\"]).agg(\n",
    "    n = (\"status\", \"count\")\n",
    ").reset_index()\n",
    "\n",
    "monthly = pd.pivot(\n",
    "    monthly,\n",
    "    index=[\"monthyear\"],\n",
    "    columns=\"status\",\n",
    "    values=\"n\"\n",
    ").reset_index().replace(np.nan, 0)\n",
    "\n",
    "monthly[\"n\"] = monthly.iloc[:,1:].sum(axis=1)\n",
    "monthly.iloc[:,1:-1] = monthly.iloc[:,1:-1].apply(lambda x : x / monthly.n, axis=0)\n",
    "\n",
    "monthly = monthly.drop(\"n\", axis=1)\n",
    "\n",
    "monthly.head()"
   ]
  },
  {
   "cell_type": "code",
   "execution_count": null,
   "id": "71c93e68-2389-42a8-aa80-85bf4951da2a",
   "metadata": {},
   "outputs": [],
   "source": [
    "monthly.to_csv(\"./data/cleaned/monthly_overview.csv\", index=False)"
   ]
  },
  {
   "cell_type": "markdown",
   "id": "895ecab5-790b-4c40-9c43-6d2acfbe94fa",
   "metadata": {},
   "source": [
    "## Gesamtübersicht nach Bundesland"
   ]
  },
  {
   "cell_type": "code",
   "execution_count": null,
   "id": "19ec2e33-9567-4acb-ae39-f27fe6b4972c",
   "metadata": {
    "tags": []
   },
   "outputs": [],
   "source": [
    "# filter out where no data and mean of each status % by bundesland\n",
    "nach_bundesland = df_shelter.loc[~df_shelter.shelter_id.isin(no_data),] \\\n",
    "    .groupby([\"bundesland\"]) \\\n",
    "    .mean() \\\n",
    "    .reset_index()\n",
    "\n",
    "nach_bundesland = nach_bundesland.drop([\"shelter_id\",\"latitude\",\"longitude\"], axis=1)\n",
    "\n",
    "nach_bundesland"
   ]
  },
  {
   "cell_type": "code",
   "execution_count": null,
   "id": "77553705-c24d-4d51-89c7-fcf57e1e6bc5",
   "metadata": {},
   "outputs": [],
   "source": [
    "nach_bundesland.to_csv(\"./data/cleaned/bundesland_overview.csv\", index=False)"
   ]
  },
  {
   "cell_type": "markdown",
   "id": "79f9b3d4-18f0-4cdf-b738-8521b2f3283b",
   "metadata": {
    "tags": []
   },
   "source": [
    "## Weihnachts Beispiel - 12.25.2022 um 8 Uhr"
   ]
  },
  {
   "cell_type": "code",
   "execution_count": null,
   "id": "67084d0f-86c8-4bb4-af36-38f3ed56732e",
   "metadata": {},
   "outputs": [],
   "source": [
    "weihnacht = df.loc[df.timestamp==pd.to_datetime(\"2022-25-12 08:01:00\", dayfirst=True),] # filter by day\n",
    "weihnacht = weihnacht[[\"shelter_name\",\"shelter_id\",\"latitude\",\"longitude\",\"timestamp\",\"description\",\"desc_short\",\"gen\",\"bez\",\"bundesland\"]]\n",
    "weihnacht.to_csv(\"./data/cleaned/belegungsstatus_25-12-2022_8-01.csv\", index=False)"
   ]
  }
 ],
 "metadata": {
  "kernelspec": {
   "display_name": "Python 3 (ipykernel)",
   "language": "python",
   "name": "python3"
  },
  "language_info": {
   "codemirror_mode": {
    "name": "ipython",
    "version": 3
   },
   "file_extension": ".py",
   "mimetype": "text/x-python",
   "name": "python",
   "nbconvert_exporter": "python",
   "pygments_lexer": "ipython3",
   "version": "3.9.1"
  }
 },
 "nbformat": 4,
 "nbformat_minor": 5
}
