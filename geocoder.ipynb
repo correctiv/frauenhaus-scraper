{
 "cells": [
  {
   "cell_type": "code",
   "execution_count": 1,
   "metadata": {},
   "outputs": [
    {
     "name": "stderr",
     "output_type": "stream",
     "text": [
      "/Users/maxdonheiser/.pyenv/versions/3.9.1/lib/python3.9/site-packages/geopandas/_compat.py:112: UserWarning: The Shapely GEOS version (3.10.2-CAPI-1.16.0) is incompatible with the GEOS version PyGEOS was compiled with (3.10.3-CAPI-1.16.1). Conversions between both will be slow.\n",
      "  warnings.warn(\n"
     ]
    }
   ],
   "source": [
    "import pandas as pd\n",
    "import numpy as np\n",
    "import geopandas as gpd\n",
    "from geopy.geocoders import Nominatim"
   ]
  },
  {
   "cell_type": "code",
   "execution_count": 2,
   "metadata": {},
   "outputs": [],
   "source": [
    "de = gpd.read_file(\"/Users/maxdonheiser/Documents/DE_Geodaten/kreisgrenzen.geojson\")"
   ]
  },
  {
   "cell_type": "code",
   "execution_count": 3,
   "metadata": {},
   "outputs": [],
   "source": [
    "fpath = \"frauenhaus_suche.json\"\n",
    "\n",
    "# load data\n",
    "raw = pd.read_json(fpath, orient=\"index\")\n",
    "raw[\"shelter_id\"] = raw.index\n",
    "raw = raw.reset_index(drop=True)\n",
    "\n",
    "# clean up geometry columns\n",
    "raw.loc[raw.geography.notnull(), \"geometry\"] = raw.loc[raw.geography.notnull(), \"geography\"]\n",
    "\n",
    "# get all timeseries data\n",
    "df = pd.DataFrame()\n",
    "\n",
    "for i, row in raw.iterrows():\n",
    "    \n",
    "    temp = pd.DataFrame(row[\"data\"])\n",
    "    temp[\"shelter_id\"] = row[\"shelter_id\"]\n",
    "    temp[\"shelter_name\"] = row[\"title\"]\n",
    "    temp[\"latitude\"] = row[\"geometry\"][\"coordinates\"][1]\n",
    "    temp[\"longitude\"] = row[\"geometry\"][\"coordinates\"][0]\n",
    "    df = pd.concat([df, temp])\n",
    "    \n",
    "df = df[[\"shelter_name\",\"shelter_id\",\"latitude\",\"longitude\"]].drop_duplicates()\n",
    "\n",
    "df = df.loc[df.shelter_name.notnull(),]\n",
    "\n",
    "df[\"points\"] = gpd.points_from_xy(df.longitude, df.latitude, crs=\"EPSG:4326\")\n",
    "\n",
    "df[\"gen\"] = np.nan\n",
    "df[\"bez\"] = np.nan\n",
    "df[\"nuts\"] = np.nan\n",
    "\n",
    "df = df.reset_index(drop=True)"
   ]
  },
  {
   "cell_type": "code",
   "execution_count": 4,
   "metadata": {
    "tags": []
   },
   "outputs": [
    {
     "name": "stdout",
     "output_type": "stream",
     "text": [
      "Failed on AWO Frauen- und Kinderschutzhaus Bodenseekreis, 2333\n",
      "Failed on Frauenhaus Kiel, 2106\n",
      "Failed on AWO Frauenschutzhaus Ribnitz-Damgarten, 2205\n"
     ]
    }
   ],
   "source": [
    "# geocode kreis\n",
    "for j, row in df.iterrows():\n",
    "    \n",
    "    point = row[\"points\"]\n",
    "    shelter = row[\"shelter_name\"]\n",
    "    shelter_id = row[\"shelter_id\"]\n",
    "    found = False\n",
    "    \n",
    "    for k, kreis in de.iterrows():\n",
    "        \n",
    "        geometry = kreis[\"geometry\"]\n",
    "        \n",
    "        if geometry.contains(point):\n",
    "            \n",
    "            df.loc[j, \"bez\"] = kreis[\"BEZ\"]\n",
    "            df.loc[j, \"gen\"]  = kreis[\"GEN\"]\n",
    "            df.loc[j, \"nuts\"]  = kreis[\"NUTS\"]\n",
    "            found = True\n",
    "            continue\n",
    "    \n",
    "    if found == False:\n",
    "        print(f\"Failed on {shelter}, {shelter_id}\")"
   ]
  },
  {
   "cell_type": "code",
   "execution_count": 5,
   "metadata": {},
   "outputs": [
    {
     "name": "stdout",
     "output_type": "stream",
     "text": [
      "Hofen, Friedrichshafen, Verwaltungsgemeinschaft Friedrichshafen, Bodenseekreis, Baden-Württemberg, 88045, Deutschland\n",
      "Kiel, Sartorikai, Altstadt, Kiel, Schleswig-Holstein, 24103, Deutschland\n",
      "Spielplatz Hafen, Am See, Ribnitz, Ribnitz-Damgarten, Vorpommern-Rügen, Mecklenburg-Vorpommern, 18311, Deutschland\n"
     ]
    }
   ],
   "source": [
    "geolocator = Nominatim(user_agent=\"correctiv\")\n",
    "\n",
    "for i, row in df.loc[df.bez.isnull()].iterrows():\n",
    "    \n",
    "    shelter = row[\"shelter_name\"]\n",
    "    shelter_id = row[\"shelter_id\"]\n",
    "    coordinates = f\"{row['latitude']}, {row['longitude']}\"\n",
    "    address = geolocator.reverse(coordinates)\n",
    "    print(address)"
   ]
  },
  {
   "cell_type": "code",
   "execution_count": 6,
   "metadata": {},
   "outputs": [],
   "source": [
    "df.loc[df.shelter_id==2333,[\"gen\",\"bez\",\"nuts\"]] = [\"Bodenseekreis\", \"Kreis\", \"DE147\"]\n",
    "df.loc[df.shelter_id==2106,[\"gen\",\"bez\",\"nuts\"]] = [\"Kiel\", \"Kreisfreie Stadt\", \"DEF02\"]\n",
    "df.loc[df.shelter_id==2205,[\"gen\",\"bez\",\"nuts\"]] = [\"Vorpommern-Rügen\", \"Kreis\", \"DE80L\"]"
   ]
  },
  {
   "cell_type": "code",
   "execution_count": 7,
   "metadata": {},
   "outputs": [],
   "source": [
    "df.loc[df.gen==\"Göttingen\", \"nuts\"] = \"DE91C\""
   ]
  },
  {
   "cell_type": "code",
   "execution_count": 8,
   "metadata": {},
   "outputs": [],
   "source": [
    "# get bundesländer\n",
    "states = gpd.read_file(\"/Users/maxdonheiser/Documents/DE_Geodaten/bundesländergrenzen.geojson\")\n",
    "states = states[[\"NUTS\",\"GEN\"]].rename(columns={\"NUTS\":\"nuts2\",\"GEN\":\"bundesland\"})"
   ]
  },
  {
   "cell_type": "code",
   "execution_count": 9,
   "metadata": {},
   "outputs": [],
   "source": [
    "# and merge\n",
    "df[\"nuts2\"] = df.nuts.str[0:3]\n",
    "df = pd.merge(df, states, on=\"nuts2\", how=\"outer\")"
   ]
  },
  {
   "cell_type": "code",
   "execution_count": 10,
   "metadata": {},
   "outputs": [
    {
     "data": {
      "text/html": [
       "<div>\n",
       "<style scoped>\n",
       "    .dataframe tbody tr th:only-of-type {\n",
       "        vertical-align: middle;\n",
       "    }\n",
       "\n",
       "    .dataframe tbody tr th {\n",
       "        vertical-align: top;\n",
       "    }\n",
       "\n",
       "    .dataframe thead th {\n",
       "        text-align: right;\n",
       "    }\n",
       "</style>\n",
       "<table border=\"1\" class=\"dataframe\">\n",
       "  <thead>\n",
       "    <tr style=\"text-align: right;\">\n",
       "      <th></th>\n",
       "      <th>shelter_name</th>\n",
       "      <th>shelter_id</th>\n",
       "      <th>latitude</th>\n",
       "      <th>longitude</th>\n",
       "      <th>points</th>\n",
       "      <th>gen</th>\n",
       "      <th>bez</th>\n",
       "      <th>nuts</th>\n",
       "      <th>nuts2</th>\n",
       "      <th>bundesland</th>\n",
       "    </tr>\n",
       "  </thead>\n",
       "  <tbody>\n",
       "    <tr>\n",
       "      <th>0</th>\n",
       "      <td>Frauen- und Kinderschutzhaus Aachen</td>\n",
       "      <td>2270</td>\n",
       "      <td>50.788047</td>\n",
       "      <td>6.097588</td>\n",
       "      <td>POINT (6.09759 50.78805)</td>\n",
       "      <td>Städteregion Aachen</td>\n",
       "      <td>Kreis</td>\n",
       "      <td>DEA2D</td>\n",
       "      <td>DEA</td>\n",
       "      <td>Nordrhein-Westfalen</td>\n",
       "    </tr>\n",
       "    <tr>\n",
       "      <th>1</th>\n",
       "      <td>Frauenhaus Alsdorf</td>\n",
       "      <td>2244</td>\n",
       "      <td>50.871672</td>\n",
       "      <td>6.208659</td>\n",
       "      <td>POINT (6.20866 50.87167)</td>\n",
       "      <td>Städteregion Aachen</td>\n",
       "      <td>Kreis</td>\n",
       "      <td>DEA2D</td>\n",
       "      <td>DEA</td>\n",
       "      <td>Nordrhein-Westfalen</td>\n",
       "    </tr>\n",
       "    <tr>\n",
       "      <th>2</th>\n",
       "      <td>Frauenhaus Arnsberg</td>\n",
       "      <td>2182</td>\n",
       "      <td>51.407733</td>\n",
       "      <td>8.051076</td>\n",
       "      <td>POINT (8.05108 51.40773)</td>\n",
       "      <td>Hochsauerlandkreis</td>\n",
       "      <td>Kreis</td>\n",
       "      <td>DEA57</td>\n",
       "      <td>DEA</td>\n",
       "      <td>Nordrhein-Westfalen</td>\n",
       "    </tr>\n",
       "    <tr>\n",
       "      <th>3</th>\n",
       "      <td>Frauenhaus Bergisch Gladbach</td>\n",
       "      <td>2067</td>\n",
       "      <td>50.992224</td>\n",
       "      <td>7.153430</td>\n",
       "      <td>POINT (7.15343 50.99222)</td>\n",
       "      <td>Rheinisch-Bergischer Kreis</td>\n",
       "      <td>Kreis</td>\n",
       "      <td>DEA2B</td>\n",
       "      <td>DEA</td>\n",
       "      <td>Nordrhein-Westfalen</td>\n",
       "    </tr>\n",
       "    <tr>\n",
       "      <th>4</th>\n",
       "      <td>AWO Frauenhaus Bielefeld</td>\n",
       "      <td>2118</td>\n",
       "      <td>52.035302</td>\n",
       "      <td>8.526658</td>\n",
       "      <td>POINT (8.52666 52.03530)</td>\n",
       "      <td>Bielefeld</td>\n",
       "      <td>Kreisfreie Stadt</td>\n",
       "      <td>DEA41</td>\n",
       "      <td>DEA</td>\n",
       "      <td>Nordrhein-Westfalen</td>\n",
       "    </tr>\n",
       "  </tbody>\n",
       "</table>\n",
       "</div>"
      ],
      "text/plain": [
       "                          shelter_name  shelter_id   latitude  longitude  \\\n",
       "0  Frauen- und Kinderschutzhaus Aachen        2270  50.788047   6.097588   \n",
       "1                   Frauenhaus Alsdorf        2244  50.871672   6.208659   \n",
       "2                  Frauenhaus Arnsberg        2182  51.407733   8.051076   \n",
       "3         Frauenhaus Bergisch Gladbach        2067  50.992224   7.153430   \n",
       "4             AWO Frauenhaus Bielefeld        2118  52.035302   8.526658   \n",
       "\n",
       "                     points                         gen               bez  \\\n",
       "0  POINT (6.09759 50.78805)         Städteregion Aachen             Kreis   \n",
       "1  POINT (6.20866 50.87167)         Städteregion Aachen             Kreis   \n",
       "2  POINT (8.05108 51.40773)          Hochsauerlandkreis             Kreis   \n",
       "3  POINT (7.15343 50.99222)  Rheinisch-Bergischer Kreis             Kreis   \n",
       "4  POINT (8.52666 52.03530)                   Bielefeld  Kreisfreie Stadt   \n",
       "\n",
       "    nuts nuts2           bundesland  \n",
       "0  DEA2D   DEA  Nordrhein-Westfalen  \n",
       "1  DEA2D   DEA  Nordrhein-Westfalen  \n",
       "2  DEA57   DEA  Nordrhein-Westfalen  \n",
       "3  DEA2B   DEA  Nordrhein-Westfalen  \n",
       "4  DEA41   DEA  Nordrhein-Westfalen  "
      ]
     },
     "execution_count": 10,
     "metadata": {},
     "output_type": "execute_result"
    }
   ],
   "source": [
    "df.head()"
   ]
  },
  {
   "cell_type": "code",
   "execution_count": 11,
   "metadata": {},
   "outputs": [],
   "source": [
    "df = df.drop([\"points\"], axis=1)"
   ]
  },
  {
   "cell_type": "code",
   "execution_count": 12,
   "metadata": {},
   "outputs": [
    {
     "data": {
      "text/html": [
       "<div>\n",
       "<style scoped>\n",
       "    .dataframe tbody tr th:only-of-type {\n",
       "        vertical-align: middle;\n",
       "    }\n",
       "\n",
       "    .dataframe tbody tr th {\n",
       "        vertical-align: top;\n",
       "    }\n",
       "\n",
       "    .dataframe thead th {\n",
       "        text-align: right;\n",
       "    }\n",
       "</style>\n",
       "<table border=\"1\" class=\"dataframe\">\n",
       "  <thead>\n",
       "    <tr style=\"text-align: right;\">\n",
       "      <th></th>\n",
       "      <th>shelter_name</th>\n",
       "      <th>shelter_id</th>\n",
       "      <th>latitude</th>\n",
       "      <th>longitude</th>\n",
       "      <th>gen</th>\n",
       "      <th>bez</th>\n",
       "      <th>nuts</th>\n",
       "      <th>nuts2</th>\n",
       "      <th>bundesland</th>\n",
       "    </tr>\n",
       "  </thead>\n",
       "  <tbody>\n",
       "  </tbody>\n",
       "</table>\n",
       "</div>"
      ],
      "text/plain": [
       "Empty DataFrame\n",
       "Columns: [shelter_name, shelter_id, latitude, longitude, gen, bez, nuts, nuts2, bundesland]\n",
       "Index: []"
      ]
     },
     "execution_count": 12,
     "metadata": {},
     "output_type": "execute_result"
    }
   ],
   "source": [
    "df.loc[df.bundesland.isnull()]"
   ]
  },
  {
   "cell_type": "code",
   "execution_count": 13,
   "metadata": {},
   "outputs": [],
   "source": [
    "df.to_csv(\"data/helpers/shelters_geocoded.csv\", index=False)"
   ]
  }
 ],
 "metadata": {
  "kernelspec": {
   "display_name": "Python 3 (ipykernel)",
   "language": "python",
   "name": "python3"
  },
  "language_info": {
   "codemirror_mode": {
    "name": "ipython",
    "version": 3
   },
   "file_extension": ".py",
   "mimetype": "text/x-python",
   "name": "python",
   "nbconvert_exporter": "python",
   "pygments_lexer": "ipython3",
   "version": "3.9.1"
  }
 },
 "nbformat": 4,
 "nbformat_minor": 5
}
