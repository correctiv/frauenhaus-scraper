{
 "cells": [
  {
   "cell_type": "markdown",
   "metadata": {},
   "source": [
    "# Scrape accessibility and shelter type"
   ]
  },
  {
   "cell_type": "code",
   "execution_count": 1,
   "metadata": {},
   "outputs": [],
   "source": [
    "import requests\n",
    "from bs4 import BeautifulSoup\n",
    "import ast\n",
    "import json\n",
    "import pandas as pd\n",
    "import numpy as np"
   ]
  },
  {
   "cell_type": "code",
   "execution_count": 2,
   "metadata": {},
   "outputs": [],
   "source": [
    "r = requests.get('https://www.frauenhaus-suche.de/')\n",
    "soup = BeautifulSoup(r.content, 'lxml')\n",
    "script = soup.find('div', class_='tx-ks-zif-frauenhaus').find_all('script')[1].string.replace('\\n','').replace('\\t','').replace(';','').split('addressesJson =  ')[1]\n",
    "d = ast.literal_eval(script)['features']"
   ]
  },
  {
   "cell_type": "code",
   "execution_count": 3,
   "metadata": {},
   "outputs": [],
   "source": [
    "data = {}"
   ]
  },
  {
   "cell_type": "code",
   "execution_count": 4,
   "metadata": {},
   "outputs": [],
   "source": [
    "for entry in d:\n",
    "\n",
    "    uid = entry['properties']['uid']\n",
    "    title = entry['properties']['title']\n",
    "    einrichtungsart = entry['properties']['einrichtungsart']\n",
    "    data[uid] = {}\n",
    "    data[uid]['einrichtungsart'] =  einrichtungsart\n",
    "    data[uid]['title'] = title"
   ]
  },
  {
   "cell_type": "code",
   "execution_count": 5,
   "metadata": {},
   "outputs": [
    {
     "data": {
      "text/plain": [
       "{'einrichtungsart': '101', 'title': 'AWO-Frauenhaus-Bottrop'}"
      ]
     },
     "execution_count": 5,
     "metadata": {},
     "output_type": "execute_result"
    }
   ],
   "source": [
    "data['2321']"
   ]
  },
  {
   "cell_type": "code",
   "execution_count": 6,
   "metadata": {},
   "outputs": [],
   "source": [
    "items = soup.find_all('div', class_='searchResultItem')"
   ]
  },
  {
   "cell_type": "code",
   "execution_count": 7,
   "metadata": {},
   "outputs": [
    {
     "name": "stdout",
     "output_type": "stream",
     "text": [
      "2499\n",
      "2064\n",
      "2467\n"
     ]
    }
   ],
   "source": [
    "for item in items:\n",
    "    uid = item['id'].split('_')[1]\n",
    "    images = item.find('div', class_='features').find_all('img')\n",
    "    attributes = {img['src'].split(\"/\")[-1][0:-4]: True for img in images}\n",
    "    try:\n",
    "        data[uid].update(attributes)\n",
    "    except Exception:\n",
    "        print(uid)"
   ]
  },
  {
   "cell_type": "code",
   "execution_count": 8,
   "metadata": {},
   "outputs": [],
   "source": [
    "df = pd.DataFrame.from_dict(data, orient='index').replace(np.nan, False)\n",
    "df['shelter_id'] = df.index\n",
    "df = df.reset_index(drop=True)"
   ]
  },
  {
   "cell_type": "code",
   "execution_count": 9,
   "metadata": {},
   "outputs": [],
   "source": [
    "d = {\n",
    "    'ZIF_Rollstuhl':'Gehbehinderung',\n",
    "    'ZIF_Ohr':'Hörbehinderung/Taubheit',\n",
    "    'ZIF_Auge_02':'Sehbehinderung/Blindheit',\n",
    "    'ZIF_Sucht':'Suchtmittelabhängigkeit'\n",
    "}"
   ]
  },
  {
   "cell_type": "code",
   "execution_count": 10,
   "metadata": {},
   "outputs": [],
   "source": [
    "keep = ['shelter_id','title','einrichtungsart']\n",
    "keep.extend([key for key in d.keys()])\n",
    "df = df[keep] # keep relevant columns"
   ]
  },
  {
   "cell_type": "code",
   "execution_count": 11,
   "metadata": {},
   "outputs": [],
   "source": [
    "df = df.rename(columns=d)"
   ]
  },
  {
   "cell_type": "code",
   "execution_count": 12,
   "metadata": {},
   "outputs": [],
   "source": [
    "df.einrichtungsart = df.einrichtungsart.map({\n",
    "    '101': 'Frauenhaus',\n",
    "    '102': 'Schutzwohnung'\n",
    "})"
   ]
  },
  {
   "cell_type": "code",
   "execution_count": 13,
   "metadata": {},
   "outputs": [],
   "source": [
    "df.to_csv(\"./data/helpers/shelters_metadata.csv\", index=False)"
   ]
  }
 ],
 "metadata": {
  "kernelspec": {
   "display_name": "Python 3 (ipykernel)",
   "language": "python",
   "name": "python3"
  },
  "language_info": {
   "codemirror_mode": {
    "name": "ipython",
    "version": 3
   },
   "file_extension": ".py",
   "mimetype": "text/x-python",
   "name": "python",
   "nbconvert_exporter": "python",
   "pygments_lexer": "ipython3",
   "version": "3.9.1"
  }
 },
 "nbformat": 4,
 "nbformat_minor": 4
}
